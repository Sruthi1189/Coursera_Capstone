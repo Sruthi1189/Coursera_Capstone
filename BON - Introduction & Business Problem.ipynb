{
    "cells": [
        {
            "cell_type": "markdown",
            "metadata": {
                "collapsed": true
            },
            "source": "# Exploring the Taste of NYC Neighborhoods\u00b6"
        },
        {
            "cell_type": "markdown",
            "metadata": {},
            "source": "## IBM Applied Data Science Capstone Project"
        },
        {
            "cell_type": "markdown",
            "metadata": {},
            "source": "## Table of Contents\n1. [Introduction](#introduction)\n2. [Data](#data)\n3. [Methodology](#methodology)\n4. [Analysis & Machine Learning](#analysis)\n5. [Results](#results)"
        },
        {
            "cell_type": "markdown",
            "metadata": {},
            "source": "## 1a. Introduction"
        },
        {
            "cell_type": "markdown",
            "metadata": {},
            "source": "New York City is the most populous city in the United States, home to the headquarters of the United Nations and an important center for international diplomacy. It just might be the most diverse city on the planet, as it is home to over 8.6 million people and over 800 languages.\n\nAs quoted in an article - [What Food Tells Us About Culture](https://freelymagazine.com/2017/01/07/what-food-tells-us-about-culture/)  \n*\"Traditional cuisine is passed down from one generation to the next. It also operates as an expression of cultural identity. Immigrants bring the food of their countries with them wherever they go and cooking traditional food is a way of preserving their culture when they move to new places.\"*\n\nUndoubtedly, **Food Diversity** is an important part of an ethnically diverse metropolis. The idea of this project is to categorically segment the neighborhoods of New York City into major clusters and examine their cuisines. A desirable intention is to examine the neighborhood cluster's food habits and taste. Further examination might reveal if food has any relationship with the diversity of a neighborhood.\n\nThis project will help to understand the diversity of a neighborhood by leveraging venue data from Foursquare\u2019s \u2018Places API\u2019 and \u2018k-means clustering\u2019 machine learning algorithm. Exploratory Data Analysis (EDA) will help to discover further about the culture and diversity of the neighborhood.  \n**Stakeholders** would be the one who are interested to use this quantifiable analysis to understand the distribution of different cultures and cuisines over \"the most diverse city on the planet - NYC\". Also, this project can be utilized by a new food vendor who is willing to open his or her restaurant. Or by a government authority to examine and study their city's culture diversity better."
        },
        {
            "cell_type": "markdown",
            "metadata": {},
            "source": "## 1b. Business Problem"
        },
        {
            "cell_type": "markdown",
            "metadata": {},
            "source": "New York City and the city of Toronto. are very diverse and are the financial capitals of their respective countries. One interesting idea would be to compare the neighborhoods of the two cities and determine how similar or dissimilar they are. Is New York City more like Toronto or Paris or some other multicultural city?\nif someone is looking to open a restaurant, where would you recommend that they open it? Similarly, if a contractor is trying to start their own business, where would you recommend that they setup their office?"
        },
        {
            "cell_type": "code",
            "execution_count": null,
            "metadata": {},
            "outputs": [],
            "source": ""
        }
    ],
    "metadata": {
        "kernelspec": {
            "display_name": "Python 3.6",
            "language": "python",
            "name": "python3"
        },
        "language_info": {
            "codemirror_mode": {
                "name": "ipython",
                "version": 3
            },
            "file_extension": ".py",
            "mimetype": "text/x-python",
            "name": "python",
            "nbconvert_exporter": "python",
            "pygments_lexer": "ipython3",
            "version": "3.6.8"
        }
    },
    "nbformat": 4,
    "nbformat_minor": 1
}